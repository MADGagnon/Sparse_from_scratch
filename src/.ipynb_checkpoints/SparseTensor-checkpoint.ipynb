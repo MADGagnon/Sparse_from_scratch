{
 "cells": [
  {
   "cell_type": "code",
   "execution_count": 3,
   "metadata": {},
   "outputs": [],
   "source": [
    "#Auteurs : Maud Moerel-Martini et Marc-Antoine Dufresne Gagnon\n",
    "#Projet   : IFT2015 - Structure de Donnees - TP1\n",
    "\n",
    "import numpy as np\n",
    "import math as math\n",
    "import matplotlib.pyplot as plt"
   ]
  },
  {
   "cell_type": "code",
   "execution_count": 26,
   "metadata": {},
   "outputs": [],
   "source": [
    "class SparseTensor:\n",
    "\n",
    "    def __init__(self, fromiter, shape):\n",
    "        n, m, o = shape\n",
    "        self.shape = shape\n",
    "        self.n = n\n",
    "        self.m = m\n",
    "        self.o = o\n",
    "        self.nnz = 0 # TODO: nombre de valeurs non-nulles\n",
    "        self.rowptr = [0] # liste de taille n + 1 des intervalles des colonnes, commence a 0\n",
    "        self.colind = [] # liste de taille nnz des indices des valeurs non-nulles\n",
    "        self.data = [] # liste de taille nnz des valeurs non-nulles\n",
    "        \n",
    "        for g in fromiter:\n",
    "            print(nnz)\n",
    "            for i,e in enumerate(g):#Chaque range de la matrice\n",
    "                nombre_valeurs_range=0 #Compteur pour utiliser le nombre de laveurs sur la range\n",
    "                for j,f in enumerate(e):#Chaque valeur de la range de la matrice\n",
    "                    if(f != 0):#valeur != 0\n",
    "                        nombre_valeurs_range += 1 \n",
    "                        self.nnz += 1\n",
    "                        self.colind.append(j)#On ajoute les indice de colonnes correxpondant aux valeurs \n",
    "                        self.data.append(f)#On ajoute la valeur dans le tableau des valeurs\n",
    "                self.rowptr.append((self.rowptr[len(self.rowptr)-1]+nombre_valeurs_range)) # valeur precedente de rowptr + nombre valeurs sur range\n",
    "             \n",
    "    def __getitem__(self, k): \n",
    "        \n",
    "        i, j, h = k # i est la colonne, j la range\n",
    "            \n",
    "        indices_range = range(self.rowptr[i+self.n*h], self.rowptr[i+self.n*h+1])#contient les indices de colind et data où les colonnes et les valeurs non-nulles de la rangée i sont stockées.\n",
    "                \n",
    "        while indices_range:\n",
    "            k = math.floor(len(indices_range)/2)\n",
    "            if self.colind[indices_range[k]] is j:\n",
    "                return self.data[indices_range[k]] # Pours toutes les valeurs non nulles, nous verifions si la colonne est pour cette range a une valeur. si oui, on la retourne\n",
    "            elif self.colind[indices_range[k]] > j:# Si non, nous continuons, utilisant le sous tableau de tous les elemetns plus petits que j\n",
    "                indices_range = indices_range[0:math.floor(len(indices_range)/2)]\n",
    "            elif self.colind[indices_range[k]] < j:# Si non, nous continuons, utilisant le sous tableau de tous les elemetns plus grands que j\n",
    "                indices_range = indices_range[math.ceil(len(indices_range)/2):len(indices_range)]\n",
    "                \n",
    "        return 0  # Si non, on retourne 0\n",
    "    \n",
    "    def todense(self):\n",
    "        \n",
    "        nombre_elements_matrice = 1\n",
    "        for i in self.shape :\n",
    "            nombre_elements_matrice *= i # Nous cherchons le nombre d'elements total dans la structure\n",
    "        \n",
    "        dense = self.data[:] #tableau des valeurs non 0 # toutes les valeurs non nulles \n",
    "        data_count = 0 # Toutes les valeurs non nulle vues dans l'iteration\n",
    "        horizontal_count = 0 # compteru de distance parcouru sur la dimension i\n",
    "        vertical_count = 0 # compteur de distance parcouru sur la dimension j\n",
    "        line_count = self.rowptr[vertical_count+1]-self.rowptr[vertical_count] # nombres de valeurs sur la ligne de la dimension i\n",
    "        \n",
    "        while len(dense) < nombre_elements_matrice :# Nous commencons avec touts les elements non nuls et placons des 0 aux bon endroits. Nous arretons lorsque le nombre d'elements dans le la liste est egale au nombre d'elements attendus dans la structure finale\n",
    "            if data_count is not len(self.data):\n",
    "                if (horizontal_count is self.m) :# nous iterons sur les dimensions de la structure finale, en restant en 1D. Ici, nous sommes au bout de la ligne\n",
    "                    horizontal_count = 0\n",
    "                    vertical_count += 1                  \n",
    "                    line_count = self.rowptr[vertical_count+1]-self.rowptr[vertical_count]\n",
    "                elif (line_count is 0) or (horizontal_count < self.colind[data_count]) :#lorsqu'un zero devrait etre place\n",
    "                    dense.insert(vertical_count*self.shape[1]+horizontal_count,0)\n",
    "                    horizontal_count += 1\n",
    "\n",
    "                elif horizontal_count is self.colind[data_count] :# Lorsque l'elements que nous regardons est non nul\n",
    "                    horizontal_count += 1\n",
    "                    line_count -= 1\n",
    "                    data_count += 1\n",
    "            else :# Lorsqu'il ne reste que des zeros a placer\n",
    "                dense.insert(vertical_count*self.shape[1]+horizontal_count,0)\n",
    "                horizontal_count += 0\n",
    "        return np.reshape(dense,self.shape[::-1])# Nous retournons la structure avec les bonnes dimensions. \n",
    "        \n",
    "    def __str__(self):\n",
    "        str = \"\"   \n",
    "        dictionnaire_variables = vars(self)  # Dictionnaire des variables de la classe\n",
    "        for i in [*dictionnaire_variables]:  # Unpacking du dictionnaire des variables pour avoir une liste des cles  \n",
    "            str += i + \" :\\n\" + \"%s\\n\\n\" % (dictionnaire_variables[i],)  #  Valeur pour variable i avec vars(self)[i]. nous utilisons le singleton pour imprimer le tuple de shape aussi\n",
    "        return str\n"
   ]
  },
  {
   "cell_type": "code",
   "execution_count": 27,
   "metadata": {},
   "outputs": [
    {
     "name": "stdout",
     "output_type": "stream",
     "text": [
      "[[[1 2]\n",
      "  [3 4]]\n",
      "\n",
      " [[5 6]\n",
      "  [7 8]]\n",
      "\n",
      " [[9 0]\n",
      "  [0 9]]\n",
      "\n",
      " [[8 7]\n",
      "  [6 5]]\n",
      "\n",
      " [[4 3]\n",
      "  [2 1]]\n",
      "\n",
      " [[0 1]\n",
      "  [1 0]]]\n"
     ]
    }
   ],
   "source": [
    "mat = SparseTensor([[[1,2],[3,4]],[[5,6],[7,8]],[[9,0],[0,9]],[[8,7],[6,5]],[[4,3],[2,1]],[[0,1],[1,0]]], (2, 2,6))\n",
    "#print(mat.__str__())\n",
    "#print(mat.__getitem__((0,0,6)))\n",
    "print(mat.todense())"
   ]
  },
  {
   "cell_type": "code",
   "execution_count": null,
   "metadata": {},
   "outputs": [],
   "source": []
  }
 ],
 "metadata": {
  "kernelspec": {
   "display_name": "Python 3",
   "language": "python",
   "name": "python3"
  },
  "language_info": {
   "codemirror_mode": {
    "name": "ipython",
    "version": 3
   },
   "file_extension": ".py",
   "mimetype": "text/x-python",
   "name": "python",
   "nbconvert_exporter": "python",
   "pygments_lexer": "ipython3",
   "version": "3.6.5"
  }
 },
 "nbformat": 4,
 "nbformat_minor": 2
}
